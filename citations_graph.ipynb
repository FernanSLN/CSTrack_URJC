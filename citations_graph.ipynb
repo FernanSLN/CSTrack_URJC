{
 "cells": [
  {
   "cell_type": "code",
   "execution_count": 70,
   "metadata": {},
   "outputs": [],
   "source": [
    "import pandas as pd\n",
    "import re\n",
    "from webweb import Web\n",
    "import hashlib"
   ]
  },
  {
   "cell_type": "code",
   "execution_count": 71,
   "metadata": {},
   "outputs": [],
   "source": [
    "df = pd.read_csv('Lynguo_def2.csv', sep= ';', error_bad_lines = False)"
   ]
  },
  {
   "cell_type": "code",
   "execution_count": 72,
   "metadata": {},
   "outputs": [],
   "source": [
    "df= df.drop([78202], axis= 0)"
   ]
  },
  {
   "cell_type": "code",
   "execution_count": 161,
   "metadata": {},
   "outputs": [
    {
     "data": {
      "text/plain": [
       "Borrado        128\n",
       "Favorito       158\n",
       "Fecha          312\n",
       "Fuente         522\n",
       "Texto          823\n",
       "Enlace        2346\n",
       "Marca         3774\n",
       "Usuario       3950\n",
       "Oficial       3691\n",
       "Opinion       4863\n",
       "Categoria    76283\n",
       "Tags         78168\n",
       "Impacto       5067\n",
       "dtype: int64"
      ]
     },
     "execution_count": 161,
     "metadata": {},
     "output_type": "execute_result"
    }
   ],
   "source": [
    "df.isnull().sum()"
   ]
  },
  {
   "cell_type": "code",
   "execution_count": 134,
   "metadata": {},
   "outputs": [],
   "source": [
    "stopwords = ['#citizenscience', 'citizenscience', 'rt', 'citizen', 'science', 'citsci','cienciaciudadana']        "
   ]
  },
  {
   "cell_type": "code",
   "execution_count": 178,
   "metadata": {},
   "outputs": [],
   "source": [
    "dfMentions = df[['Usuario', 'Texto']].copy()"
   ]
  },
  {
   "cell_type": "code",
   "execution_count": 179,
   "metadata": {},
   "outputs": [],
   "source": [
    "dfMentions=dfMentions.dropna()"
   ]
  },
  {
   "cell_type": "code",
   "execution_count": 180,
   "metadata": {},
   "outputs": [],
   "source": [
    "dfEliminarRTs = dfMentions[dfMentions['Texto'].str.match('RT @')]\n",
    "\n"
   ]
  },
  {
   "cell_type": "code",
   "execution_count": 182,
   "metadata": {},
   "outputs": [],
   "source": [
    "\n",
    "dfMentions=dfMentions.drop(dfEliminarRTs.index)\n"
   ]
  },
  {
   "cell_type": "code",
   "execution_count": 183,
   "metadata": {},
   "outputs": [],
   "source": [
    "mentionsSubset = dfMentions[['Usuario', 'Texto']]\n",
    "\n",
    "mentionsList = [list(x) for x in mentionsSubset.to_numpy()]\n",
    "mentionEdges = []\n",
    "for row in mentionsList:\n",
    "    match = re.search('@(\\w+)', row[1])\n",
    "    if match:\n",
    "        match = match.group(1)\n",
    "        row[1] = hashlib.md5(match.encode()).hexdigest()  \n",
    "        mentionEdges.append(row)"
   ]
  },
  {
   "cell_type": "code",
   "execution_count": 184,
   "metadata": {},
   "outputs": [],
   "source": [
    "web = Web(mentionEdges)\n",
    "web.display.gravity = 1\n",
    "web.show()"
   ]
  },
  {
   "cell_type": "code",
   "execution_count": null,
   "metadata": {},
   "outputs": [],
   "source": []
  }
 ],
 "metadata": {
  "kernelspec": {
   "display_name": "Python 3",
   "language": "python",
   "name": "python3"
  },
  "language_info": {
   "codemirror_mode": {
    "name": "ipython",
    "version": 3
   },
   "file_extension": ".py",
   "mimetype": "text/x-python",
   "name": "python",
   "nbconvert_exporter": "python",
   "pygments_lexer": "ipython3",
   "version": "3.8.5"
  }
 },
 "nbformat": 4,
 "nbformat_minor": 4
}
